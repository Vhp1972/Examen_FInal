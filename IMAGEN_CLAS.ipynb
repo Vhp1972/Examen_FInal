{
 "cells": [
  {
   "cell_type": "markdown",
   "id": "59ae0082",
   "metadata": {},
   "source": [
    "# PRUEBA FINAL\n",
    "## TRATAMIENTO DE DATOS"
   ]
  },
  {
   "cell_type": "code",
   "execution_count": 11,
   "id": "fd29f616",
   "metadata": {},
   "outputs": [],
   "source": [
    "import os\n",
    "import cv2\n",
    "import numpy as np\n",
    "from sklearn.preprocessing import LabelEncoder\n",
    "from sklearn.model_selection import train_test_split\n",
    "from sklearn.metrics import confusion_matrix\n",
    "from tensorflow.keras.models import Sequential\n",
    "from tensorflow.keras.layers import Conv2D, MaxPooling2D, Flatten, Dense\n"
   ]
  },
  {
   "cell_type": "code",
   "execution_count": 12,
   "id": "dfec2b06",
   "metadata": {},
   "outputs": [],
   "source": [
    "train_folder = 'CarneDataset/train'\n",
    "test_folder = 'CarneDataset/test'\n",
    "\n"
   ]
  },
  {
   "cell_type": "code",
   "execution_count": 13,
   "id": "22f357f1",
   "metadata": {},
   "outputs": [],
   "source": [
    "train_images = []\n",
    "train_labels = []\n",
    "for label in os.listdir(train_folder):\n",
    "    label_folder = os.path.join(train_folder, label)\n",
    "    for filename in os.listdir(label_folder):\n",
    "        img_path = os.path.join(label_folder, filename)\n",
    "        img = cv2.imread(img_path)\n",
    "        if img is not None:\n",
    "            train_images.append(img)\n",
    "            train_labels.append(label)"
   ]
  },
  {
   "cell_type": "code",
   "execution_count": 14,
   "id": "22eba580",
   "metadata": {},
   "outputs": [],
   "source": [
    "train_images = np.array(train_images)\n",
    "train_labels = np.array(train_labels)"
   ]
  },
  {
   "cell_type": "code",
   "execution_count": 15,
   "id": "d3dc408c",
   "metadata": {},
   "outputs": [],
   "source": [
    "label_encoder = LabelEncoder()\n",
    "train_labels_encoded = label_encoder.fit_transform(train_labels)"
   ]
  },
  {
   "cell_type": "code",
   "execution_count": 16,
   "id": "501c454a",
   "metadata": {},
   "outputs": [],
   "source": [
    "train_images, val_images, train_labels_encoded, val_labels_encoded = train_test_split(train_images, train_labels_encoded, test_size=0.2, random_state=42)"
   ]
  },
  {
   "cell_type": "code",
   "execution_count": 17,
   "id": "f7be82bf",
   "metadata": {},
   "outputs": [],
   "source": [
    "train_images = train_images.astype('float32') / 255.0\n",
    "val_images = val_images.astype('float32') / 255.0"
   ]
  },
  {
   "cell_type": "code",
   "execution_count": 18,
   "id": "80cd705e",
   "metadata": {},
   "outputs": [],
   "source": [
    "model = Sequential()\n",
    "model.add(Conv2D(32, (3, 3), activation='relu', input_shape=train_images.shape[1:]))\n",
    "model.add(MaxPooling2D((2, 2)))\n",
    "model.add(Conv2D(64, (3, 3), activation='relu'))\n",
    "model.add(MaxPooling2D((2, 2)))\n",
    "model.add(Conv2D(64, (3, 3), activation='relu'))\n",
    "model.add(Flatten())\n",
    "model.add(Dense(64, activation='relu'))\n",
    "model.add(Dense(len(label_encoder.classes_), activation='softmax'))"
   ]
  },
  {
   "cell_type": "code",
   "execution_count": 19,
   "id": "16eb73d3",
   "metadata": {},
   "outputs": [],
   "source": [
    "model.compile(optimizer='adam', loss='sparse_categorical_crossentropy', metrics=['accuracy'])"
   ]
  },
  {
   "cell_type": "code",
   "execution_count": 20,
   "id": "3f114b6a",
   "metadata": {},
   "outputs": [
    {
     "name": "stdout",
     "output_type": "stream",
     "text": [
      "Epoch 1/10\n",
      "41/41 [==============================] - 71s 2s/step - loss: 1.8716 - accuracy: 0.5555 - val_loss: 1.1048 - val_accuracy: 0.6422\n",
      "Epoch 2/10\n",
      "41/41 [==============================] - 65s 2s/step - loss: 0.9229 - accuracy: 0.6970 - val_loss: 0.7678 - val_accuracy: 0.7003\n",
      "Epoch 3/10\n",
      "41/41 [==============================] - 66s 2s/step - loss: 0.5920 - accuracy: 0.7995 - val_loss: 0.5420 - val_accuracy: 0.8165\n",
      "Epoch 4/10\n",
      "41/41 [==============================] - 66s 2s/step - loss: 0.3604 - accuracy: 0.8753 - val_loss: 0.6815 - val_accuracy: 0.8165\n",
      "Epoch 5/10\n",
      "41/41 [==============================] - 66s 2s/step - loss: 0.1992 - accuracy: 0.9419 - val_loss: 0.4333 - val_accuracy: 0.8349\n",
      "Epoch 6/10\n",
      "41/41 [==============================] - 67s 2s/step - loss: 0.1407 - accuracy: 0.9610 - val_loss: 0.4189 - val_accuracy: 0.8563\n",
      "Epoch 7/10\n",
      "41/41 [==============================] - 65s 2s/step - loss: 0.0538 - accuracy: 0.9908 - val_loss: 0.5064 - val_accuracy: 0.8257\n",
      "Epoch 8/10\n",
      "41/41 [==============================] - 65s 2s/step - loss: 0.0445 - accuracy: 0.9908 - val_loss: 0.6143 - val_accuracy: 0.8257\n",
      "Epoch 9/10\n",
      "41/41 [==============================] - 66s 2s/step - loss: 0.0212 - accuracy: 0.9946 - val_loss: 0.4644 - val_accuracy: 0.8624\n",
      "Epoch 10/10\n",
      "41/41 [==============================] - 62s 2s/step - loss: 0.0057 - accuracy: 0.9992 - val_loss: 0.4861 - val_accuracy: 0.8654\n"
     ]
    },
    {
     "data": {
      "text/plain": [
       "<keras.callbacks.History at 0x13e81fdec20>"
      ]
     },
     "execution_count": 20,
     "metadata": {},
     "output_type": "execute_result"
    }
   ],
   "source": [
    "model.fit(train_images, train_labels_encoded, epochs=10, batch_size=32, validation_data=(val_images, val_labels_encoded))"
   ]
  },
  {
   "cell_type": "code",
   "execution_count": 21,
   "id": "d375d189",
   "metadata": {},
   "outputs": [],
   "source": [
    "test_images = []\n",
    "test_labels = []\n",
    "for label in os.listdir(test_folder):\n",
    "    label_folder = os.path.join(test_folder, label)\n",
    "    for filename in os.listdir(label_folder):\n",
    "        img_path = os.path.join(label_folder, filename)\n",
    "        img = cv2.imread(img_path)\n",
    "        if img is not None:\n",
    "            test_images.append(img)\n",
    "            test_labels.append(label)"
   ]
  },
  {
   "cell_type": "code",
   "execution_count": 22,
   "id": "90537b20",
   "metadata": {},
   "outputs": [],
   "source": [
    "test_images = np.array(test_images)\n",
    "test_labels = np.array(test_labels)"
   ]
  },
  {
   "cell_type": "code",
   "execution_count": 23,
   "id": "dfba4259",
   "metadata": {},
   "outputs": [],
   "source": [
    "test_images = test_images.astype('float32') / 255.0"
   ]
  },
  {
   "cell_type": "code",
   "execution_count": 24,
   "id": "f8d72afa",
   "metadata": {},
   "outputs": [],
   "source": [
    "test_labels_encoded = label_encoder.transform(test_labels)"
   ]
  },
  {
   "cell_type": "code",
   "execution_count": 25,
   "id": "7c09ee26",
   "metadata": {},
   "outputs": [
    {
     "name": "stdout",
     "output_type": "stream",
     "text": [
      "26/26 [==============================] - 7s 258ms/step\n"
     ]
    }
   ],
   "source": [
    "predictions = model.predict(test_images)\n",
    "predicted_labels = np.argmax(predictions, axis=1)"
   ]
  },
  {
   "cell_type": "code",
   "execution_count": 26,
   "id": "40d36964",
   "metadata": {},
   "outputs": [
    {
     "name": "stdout",
     "output_type": "stream",
     "text": [
      "Matriz de confusión del modelo:\n",
      "[[  0   0   0   0   0   0   1   0]\n",
      " [  0  25   3  12   4   0   4   0]\n",
      " [  0   0  69   0  11   1  16   0]\n",
      " [  0   1   3  34   1   0   6   0]\n",
      " [  0   1  18   0 431   0   4   5]\n",
      " [  0   0   1   0   3  15   0   0]\n",
      " [  0   0  15   5   8   0  86   0]\n",
      " [  0   0   0   0  17   0   0  10]]\n"
     ]
    }
   ],
   "source": [
    "confusion = confusion_matrix(test_labels_encoded, predicted_labels)\n",
    "print('Matriz de confusión del modelo:')\n",
    "print(confusion)"
   ]
  },
  {
   "cell_type": "code",
   "execution_count": 27,
   "id": "24087e53",
   "metadata": {},
   "outputs": [
    {
     "name": "stdout",
     "output_type": "stream",
     "text": [
      "41/41 [==============================] - 11s 269ms/step\n",
      "Matriz de confusión del error en entrenamiento:\n",
      "[[  0   0   0   0   0   0   1   0]\n",
      " [  0  51   0   0   0   0   0   0]\n",
      " [  0   0 165   0   0   0   0   0]\n",
      " [  0   0   0  82   0   0   0   0]\n",
      " [  0   0   0   0 761   0   0   0]\n",
      " [  0   0   0   0   0  30   0   0]\n",
      " [  0   0   0   0   0   0 170   0]\n",
      " [  0   0   0   0   0   0   0  47]]\n"
     ]
    }
   ],
   "source": [
    "train_predictions = model.predict(train_images)\n",
    "train_predicted_labels = np.argmax(train_predictions, axis=1)\n",
    "train_confusion = confusion_matrix(train_labels_encoded, train_predicted_labels)\n",
    "print('Matriz de confusión del error en entrenamiento:')\n",
    "print(train_confusion)"
   ]
  },
  {
   "cell_type": "code",
   "execution_count": 28,
   "id": "e8fb459a",
   "metadata": {},
   "outputs": [
    {
     "name": "stdout",
     "output_type": "stream",
     "text": [
      "26/26 [==============================] - 7s 278ms/step\n",
      "Matriz de confusión del error en prueba:\n",
      "[[  0   0   0   0   0   0   1   0]\n",
      " [  0  25   3  12   4   0   4   0]\n",
      " [  0   0  69   0  11   1  16   0]\n",
      " [  0   1   3  34   1   0   6   0]\n",
      " [  0   1  18   0 431   0   4   5]\n",
      " [  0   0   1   0   3  15   0   0]\n",
      " [  0   0  15   5   8   0  86   0]\n",
      " [  0   0   0   0  17   0   0  10]]\n"
     ]
    }
   ],
   "source": [
    "test_predictions = model.predict(test_images)\n",
    "test_predicted_labels = np.argmax(test_predictions, axis=1)\n",
    "test_confusion = confusion_matrix(test_labels_encoded, test_predicted_labels)\n",
    "print('Matriz de confusión del error en prueba:')\n",
    "print(test_confusion)"
   ]
  },
  {
   "cell_type": "code",
   "execution_count": null,
   "id": "b25358ef",
   "metadata": {},
   "outputs": [],
   "source": []
  }
 ],
 "metadata": {
  "kernelspec": {
   "display_name": "cv2",
   "language": "python",
   "name": "cv2"
  },
  "language_info": {
   "codemirror_mode": {
    "name": "ipython",
    "version": 3
   },
   "file_extension": ".py",
   "mimetype": "text/x-python",
   "name": "python",
   "nbconvert_exporter": "python",
   "pygments_lexer": "ipython3",
   "version": "3.10.9"
  }
 },
 "nbformat": 4,
 "nbformat_minor": 5
}
